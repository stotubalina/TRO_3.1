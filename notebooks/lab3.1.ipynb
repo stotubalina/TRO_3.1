{
 "cells": [
  {
   "cell_type": "markdown",
   "metadata": {},
   "source": [
    "# Лабораторная работа 3.1"
   ]
  },
  {
   "cell_type": "markdown",
   "metadata": {},
   "source": [
    "## Счастливый билетик\n",
    "\n",
    "![](http://f2.mylove.ru/UNiHT7dRJ4.jpg)\n",
    "\n",
    "Билет считается счастливым, если выполнено следующее условие: сумма первых трёх цифр номера равна сумме последних трёх цифр.\n",
    "\n",
    "**Задание:**\n",
    "\n",
    "1) Определите число `ticket_number` — шестизначный номер билета;\n",
    "\n",
    "2) Напишите код, который по шестизначному номеру `ticket_number` билетика проверяет, является ли он счастливым;\n",
    "\n",
    "3) Если номер счастливый, выведите строку `Yes`, иначе — `No`.\n",
    "\n",
    "---\n",
    "\n",
    "**Пример 1:**\n",
    "\n",
    "*Input:* 123456\n",
    "\n",
    "*Output:* No\n",
    "\n",
    "\n",
    "**Пример 2:**\n",
    "\n",
    "*Input:* 123042\n",
    "\n",
    "*Output:* Yes"
   ]
  },
  {
   "cell_type": "code",
   "execution_count": 4,
   "metadata": {},
   "outputs": [
    {
     "name": "stdout",
     "output_type": "stream",
     "text": [
      "Enter your ticket888888\n"
     ]
    }
   ],
   "source": [
    "ticket_number = int(input(\"Enter your ticket\"))"
   ]
  },
  {
   "cell_type": "code",
   "execution_count": 7,
   "metadata": {},
   "outputs": [],
   "source": [
    "sum1 = ticket_number // 100000 + ticket_number // 10000 % 10 + ticket_number // 1000 % 10"
   ]
  },
  {
   "cell_type": "code",
   "execution_count": 8,
   "metadata": {},
   "outputs": [
    {
     "name": "stdout",
     "output_type": "stream",
     "text": [
      "24\n"
     ]
    }
   ],
   "source": [
    "print(sum1)"
   ]
  },
  {
   "cell_type": "code",
   "execution_count": 9,
   "metadata": {},
   "outputs": [],
   "source": [
    "sum2 = ticket_number % 1000 // 100 + ticket_number % 100 // 10 + ticket_number % 10"
   ]
  },
  {
   "cell_type": "code",
   "execution_count": 10,
   "metadata": {},
   "outputs": [
    {
     "name": "stdout",
     "output_type": "stream",
     "text": [
      "24\n"
     ]
    }
   ],
   "source": [
    "print(sum2)"
   ]
  },
  {
   "cell_type": "code",
   "execution_count": 11,
   "metadata": {},
   "outputs": [
    {
     "name": "stdout",
     "output_type": "stream",
     "text": [
      "Yes\n"
     ]
    }
   ],
   "source": [
    "if sum1 == sum2:\n",
    "    print(\"Yes\")\n",
    "else:\n",
    "    print(\"No\")"
   ]
  },
  {
   "cell_type": "markdown",
   "metadata": {},
   "source": [
    "## Пароль\n",
    "\n",
    "![](http://forum.ixbt.com/post.cgi?id=attach:77:14138:1341:1)\n",
    "\n",
    "Пусть пароль может содержать только латинские буквы, знаки препинания и цифры.\n",
    "\n",
    "Пароль считается надёжным, если удовлетворяет следующим условиям:\n",
    "- содержит буквы в разных регистрах;\n",
    "- содержит цифры;\n",
    "- содержит не менее `4` уникальных символов;\n",
    "- не содержит ваше имя латинницей, записанное буквами любых регистров (anna, iVan, ...).\n",
    "\n",
    "Иначе пароль считается слабым.\n",
    "\n",
    "**Задание:**\n",
    "\n",
    "1) Определите строку `password` — придуманный вами пароль;\n",
    "\n",
    "2) Напишите код, который по паролю `password` проверяет, является ли он надёжным;\n",
    "\n",
    "3) Если пароль надёжный, выведите строку `strong`, иначе — `weak`.\n",
    "\n",
    "\n",
    "---\n",
    "\n",
    "Пусть имя пользоватея -- Андрей.\n",
    "\n",
    "**Пример 1:**\n",
    "\n",
    "*Input:* Aandrei123\n",
    "\n",
    "*Output:* weak\n",
    "\n",
    "\n",
    "**Пример 2:**\n",
    "\n",
    "*Input:* an12dRei\n",
    "\n",
    "*Output:* strong"
   ]
  },
  {
   "cell_type": "code",
   "execution_count": 12,
   "metadata": {},
   "outputs": [
    {
     "name": "stdout",
     "output_type": "stream",
     "text": [
      "Enter your paswordAandrei123\n",
      "What is your name?Aandrei\n"
     ]
    }
   ],
   "source": [
    "password = input(\"Enter your pasword\")\n",
    "name = input(\"What is your name?\")"
   ]
  },
  {
   "cell_type": "code",
   "execution_count": 14,
   "metadata": {},
   "outputs": [],
   "source": [
    "if password.isalpha() or password.isdigit():\n",
    "    print(\"weak\")\n",
    "    exit(-1)\n",
    "if password.islower() or password.isupper():\n",
    "    print(\"weak\")\n",
    "    exit(-1)"
   ]
  },
  {
   "cell_type": "code",
   "execution_count": null,
   "metadata": {},
   "outputs": [],
   "source": [
    "unic = set(password)\n",
    "if len(unic) < 4:\n",
    "    print(\"weak\")\n",
    "    exit(-1)"
   ]
  },
  {
   "cell_type": "code",
   "execution_count": 15,
   "metadata": {},
   "outputs": [
    {
     "name": "stdout",
     "output_type": "stream",
     "text": [
      "weak\n"
     ]
    }
   ],
   "source": [
    "if name.lower() in password.lower():\n",
    "    print(\"weak\")\n",
    "    exit(-1)\n",
    "else:\n",
    "    print(\"strong\")"
   ]
  },
  {
   "cell_type": "markdown",
   "metadata": {},
   "source": [
    "## Числа Фибоначчи\n",
    "Как известно, [числа Фибоначчи](https://ru.wikipedia.org/wiki/%D0%A7%D0%B8%D1%81%D0%BB%D0%B0_%D0%A4%D0%B8%D0%B1%D0%BE%D0%BD%D0%B0%D1%87%D1%87%D0%B8) — это последовательность чисел, каждое из которых равно сумме двух предыдущих (первые два числа равны $1$):\n",
    "$$\n",
    "    1, 1, 2, 3, 5, 8, 13, \\ldots\n",
    "$$\n",
    "\n",
    "**Задание:**\n",
    "\n",
    "1) Определите число `amount` — количество чисел Фибоначчи, которые надо вывести;\n",
    "\n",
    "2) Напишите код, который выводит первые `amount` чисел Фибоначчи.\n",
    "\n",
    "---\n",
    "\n",
    "**Пример 1:**\n",
    "\n",
    "*Input:* 3\n",
    "\n",
    "*Output:* 1 1 2\n",
    "\n",
    "\n",
    "**Пример 2:**\n",
    "\n",
    "*Input:* 10\n",
    "\n",
    "*Output:* 1 1 2 3 5 8 13 21 34 55\n"
   ]
  },
  {
   "cell_type": "code",
   "execution_count": 19,
   "metadata": {},
   "outputs": [
    {
     "name": "stdout",
     "output_type": "stream",
     "text": [
      "Enter the amount 10\n"
     ]
    }
   ],
   "source": [
    "amount = int(input(\"Enter the amount \"))"
   ]
  },
  {
   "cell_type": "code",
   "execution_count": 20,
   "metadata": {},
   "outputs": [
    {
     "name": "stdout",
     "output_type": "stream",
     "text": [
      "1\n",
      "2\n",
      "3\n",
      "5\n",
      "8\n",
      "13\n",
      "21\n",
      "34\n",
      "55\n",
      "89\n"
     ]
    }
   ],
   "source": [
    "a, b = 0, 1\n",
    "for i in range(amount):\n",
    "        sum = a + b\n",
    "        a = b\n",
    "        b = sum\n",
    "        print(sum)"
   ]
  },
  {
   "cell_type": "markdown",
   "metadata": {},
   "source": [
    "## Время исследований\n",
    "\n",
    "![](https://2.bp.blogspot.com/-VOT5x12UqPY/WSh53tQ94HI/AAAAAAAAAMY/-nlcz28_Fj4UzJjbn4bBINKCnzwag1W4QCLcB/s1600/my-pic-widget.jpg)\n",
    "\n",
    "На сайте https://www.kaggle.com/ выберите любой набор данных в формате CSV и проведите для него маленькое исследование: загрузите данные из набора с использованием стандартного модуля `csv`, посмотрите средние значения и стандартные отклонения двух выбранных числовых атрибутов, найдите [методом наименьших квадратов](https://ru.wikipedia.org/wiki/%D0%9C%D0%B5%D1%82%D0%BE%D0%B4_%D0%BD%D0%B0%D0%B8%D0%BC%D0%B5%D0%BD%D1%8C%D1%88%D0%B8%D1%85_%D0%BA%D0%B2%D0%B0%D0%B4%D1%80%D0%B0%D1%82%D0%BE%D0%B2) уравнение линейной зависимости, связывающей один числовой атрибут с другим. Для оценки заданной зависимости найдите [коэффициент парной корреляции](https://ru.wikipedia.org/wiki/%D0%9A%D0%BE%D1%80%D1%80%D0%B5%D0%BB%D1%8F%D1%86%D0%B8%D1%8F), сделайте соответствующие выводы.\n",
    "\n",
    "**Результаты надо обязательно прокомментировать и пояснить!**\n",
    "\n",
    "---\n",
    "\n",
    "**Пример 1:**\n",
    "\n",
    "Пусть таблица `bikes.csv` содержит данные по арендам велосипедов за $2$ года:\n",
    "- `datetime`: дата и время аренды\n",
    "- `season`: время года\n",
    "- `temp`: температура воздуха по Цельсию\n",
    "- `windspeed`: скорость ветра \n",
    "- `registered`: число аренд\n",
    "\n",
    "Одно из направлений исследования могло бы заключаться в проверке зависимости суммарного числа аренд от температуры воздуха."
   ]
  },
  {
   "cell_type": "markdown",
   "metadata": {},
   "source": [
    "Для анализа выбран dataset, в котором представлены цены на сырую нефть с 1983 по 2022 гг., в строках кода ниже представлено открытие файла .csv и считывание данных с него. После прохождения по файлу формируются списки прокомментированные ниже."
   ]
  },
  {
   "cell_type": "code",
   "execution_count": 2,
   "metadata": {},
   "outputs": [],
   "source": [
    "import pandas as pd\n",
    "import seaborn as sns\n",
    "import numpy as np\n",
    "import matplotlib.pyplot as plt\n",
    "import math"
   ]
  },
  {
   "cell_type": "code",
   "execution_count": 17,
   "metadata": {},
   "outputs": [],
   "source": [
    "df = pd.read_csv('crude-oil-price.csv')"
   ]
  },
  {
   "cell_type": "code",
   "execution_count": 18,
   "metadata": {},
   "outputs": [
    {
     "data": {
      "text/html": [
       "<div>\n",
       "<style scoped>\n",
       "    .dataframe tbody tr th:only-of-type {\n",
       "        vertical-align: middle;\n",
       "    }\n",
       "\n",
       "    .dataframe tbody tr th {\n",
       "        vertical-align: top;\n",
       "    }\n",
       "\n",
       "    .dataframe thead th {\n",
       "        text-align: right;\n",
       "    }\n",
       "</style>\n",
       "<table border=\"1\" class=\"dataframe\">\n",
       "  <thead>\n",
       "    <tr style=\"text-align: right;\">\n",
       "      <th></th>\n",
       "      <th>date</th>\n",
       "      <th>price</th>\n",
       "      <th>percentChange</th>\n",
       "      <th>change</th>\n",
       "    </tr>\n",
       "  </thead>\n",
       "  <tbody>\n",
       "    <tr>\n",
       "      <th>0</th>\n",
       "      <td>1983-03-30T00:00:00</td>\n",
       "      <td>29.27</td>\n",
       "      <td>NaN</td>\n",
       "      <td>NaN</td>\n",
       "    </tr>\n",
       "    <tr>\n",
       "      <th>1</th>\n",
       "      <td>1983-04-04T00:00:00</td>\n",
       "      <td>30.63</td>\n",
       "      <td>4.646396</td>\n",
       "      <td>1.36</td>\n",
       "    </tr>\n",
       "    <tr>\n",
       "      <th>2</th>\n",
       "      <td>1983-05-02T00:00:00</td>\n",
       "      <td>30.25</td>\n",
       "      <td>-1.240614</td>\n",
       "      <td>-0.38</td>\n",
       "    </tr>\n",
       "    <tr>\n",
       "      <th>3</th>\n",
       "      <td>1983-06-01T00:00:00</td>\n",
       "      <td>31.38</td>\n",
       "      <td>3.735537</td>\n",
       "      <td>1.13</td>\n",
       "    </tr>\n",
       "    <tr>\n",
       "      <th>4</th>\n",
       "      <td>1983-07-01T00:00:00</td>\n",
       "      <td>32.00</td>\n",
       "      <td>1.975781</td>\n",
       "      <td>0.62</td>\n",
       "    </tr>\n",
       "    <tr>\n",
       "      <th>...</th>\n",
       "      <td>...</td>\n",
       "      <td>...</td>\n",
       "      <td>...</td>\n",
       "      <td>...</td>\n",
       "    </tr>\n",
       "    <tr>\n",
       "      <th>464</th>\n",
       "      <td>2021-11-01T00:00:00</td>\n",
       "      <td>65.85</td>\n",
       "      <td>-19.479090</td>\n",
       "      <td>-15.93</td>\n",
       "    </tr>\n",
       "    <tr>\n",
       "      <th>465</th>\n",
       "      <td>2021-12-01T00:00:00</td>\n",
       "      <td>74.88</td>\n",
       "      <td>13.712984</td>\n",
       "      <td>9.03</td>\n",
       "    </tr>\n",
       "    <tr>\n",
       "      <th>466</th>\n",
       "      <td>2022-01-03T00:00:00</td>\n",
       "      <td>86.49</td>\n",
       "      <td>15.504808</td>\n",
       "      <td>11.61</td>\n",
       "    </tr>\n",
       "    <tr>\n",
       "      <th>467</th>\n",
       "      <td>2022-02-01T00:00:00</td>\n",
       "      <td>93.50</td>\n",
       "      <td>8.104983</td>\n",
       "      <td>7.01</td>\n",
       "    </tr>\n",
       "    <tr>\n",
       "      <th>468</th>\n",
       "      <td>2022-03-01T00:00:00</td>\n",
       "      <td>107.82</td>\n",
       "      <td>15.315508</td>\n",
       "      <td>14.32</td>\n",
       "    </tr>\n",
       "  </tbody>\n",
       "</table>\n",
       "<p>469 rows × 4 columns</p>\n",
       "</div>"
      ],
      "text/plain": [
       "                    date   price  percentChange  change\n",
       "0    1983-03-30T00:00:00   29.27            NaN     NaN\n",
       "1    1983-04-04T00:00:00   30.63       4.646396    1.36\n",
       "2    1983-05-02T00:00:00   30.25      -1.240614   -0.38\n",
       "3    1983-06-01T00:00:00   31.38       3.735537    1.13\n",
       "4    1983-07-01T00:00:00   32.00       1.975781    0.62\n",
       "..                   ...     ...            ...     ...\n",
       "464  2021-11-01T00:00:00   65.85     -19.479090  -15.93\n",
       "465  2021-12-01T00:00:00   74.88      13.712984    9.03\n",
       "466  2022-01-03T00:00:00   86.49      15.504808   11.61\n",
       "467  2022-02-01T00:00:00   93.50       8.104983    7.01\n",
       "468  2022-03-01T00:00:00  107.82      15.315508   14.32\n",
       "\n",
       "[469 rows x 4 columns]"
      ]
     },
     "execution_count": 18,
     "metadata": {},
     "output_type": "execute_result"
    }
   ],
   "source": [
    "df"
   ]
  },
  {
   "cell_type": "markdown",
   "metadata": {},
   "source": [
    "В данной таблице представлены, как уже говорилось выше, цены на сырую нефть в период с 1983 по 2022г., по месяцам года."
   ]
  },
  {
   "cell_type": "code",
   "execution_count": 19,
   "metadata": {},
   "outputs": [
    {
     "data": {
      "text/html": [
       "<div>\n",
       "<style scoped>\n",
       "    .dataframe tbody tr th:only-of-type {\n",
       "        vertical-align: middle;\n",
       "    }\n",
       "\n",
       "    .dataframe tbody tr th {\n",
       "        vertical-align: top;\n",
       "    }\n",
       "\n",
       "    .dataframe thead th {\n",
       "        text-align: right;\n",
       "    }\n",
       "</style>\n",
       "<table border=\"1\" class=\"dataframe\">\n",
       "  <thead>\n",
       "    <tr style=\"text-align: right;\">\n",
       "      <th></th>\n",
       "      <th>price</th>\n",
       "      <th>percentChange</th>\n",
       "      <th>change</th>\n",
       "    </tr>\n",
       "  </thead>\n",
       "  <tbody>\n",
       "    <tr>\n",
       "      <th>count</th>\n",
       "      <td>469.000000</td>\n",
       "      <td>468.000000</td>\n",
       "      <td>468.000000</td>\n",
       "    </tr>\n",
       "    <tr>\n",
       "      <th>mean</th>\n",
       "      <td>44.063688</td>\n",
       "      <td>0.835527</td>\n",
       "      <td>0.167842</td>\n",
       "    </tr>\n",
       "    <tr>\n",
       "      <th>std</th>\n",
       "      <td>28.360960</td>\n",
       "      <td>10.684412</td>\n",
       "      <td>4.951178</td>\n",
       "    </tr>\n",
       "    <tr>\n",
       "      <th>min</th>\n",
       "      <td>10.420000</td>\n",
       "      <td>-54.244861</td>\n",
       "      <td>-32.830000</td>\n",
       "    </tr>\n",
       "    <tr>\n",
       "      <th>25%</th>\n",
       "      <td>20.270000</td>\n",
       "      <td>-5.040127</td>\n",
       "      <td>-1.632500</td>\n",
       "    </tr>\n",
       "    <tr>\n",
       "      <th>50%</th>\n",
       "      <td>30.830000</td>\n",
       "      <td>0.956201</td>\n",
       "      <td>0.280000</td>\n",
       "    </tr>\n",
       "    <tr>\n",
       "      <th>75%</th>\n",
       "      <td>63.580000</td>\n",
       "      <td>6.511568</td>\n",
       "      <td>2.317500</td>\n",
       "    </tr>\n",
       "    <tr>\n",
       "      <th>max</th>\n",
       "      <td>140.000000</td>\n",
       "      <td>88.375796</td>\n",
       "      <td>16.650000</td>\n",
       "    </tr>\n",
       "  </tbody>\n",
       "</table>\n",
       "</div>"
      ],
      "text/plain": [
       "            price  percentChange      change\n",
       "count  469.000000     468.000000  468.000000\n",
       "mean    44.063688       0.835527    0.167842\n",
       "std     28.360960      10.684412    4.951178\n",
       "min     10.420000     -54.244861  -32.830000\n",
       "25%     20.270000      -5.040127   -1.632500\n",
       "50%     30.830000       0.956201    0.280000\n",
       "75%     63.580000       6.511568    2.317500\n",
       "max    140.000000      88.375796   16.650000"
      ]
     },
     "execution_count": 19,
     "metadata": {},
     "output_type": "execute_result"
    }
   ],
   "source": [
    "df.describe()"
   ]
  },
  {
   "cell_type": "markdown",
   "metadata": {},
   "source": [
    "Исходя из данных вычислений мы обратим внимание на среднее арифметическое наших данных, которое указано в строке mean, а так же на среднее квадратичное отклонение, также указаное в строке std."
   ]
  },
  {
   "cell_type": "code",
   "execution_count": 20,
   "metadata": {},
   "outputs": [
    {
     "data": {
      "text/html": [
       "<div>\n",
       "<style scoped>\n",
       "    .dataframe tbody tr th:only-of-type {\n",
       "        vertical-align: middle;\n",
       "    }\n",
       "\n",
       "    .dataframe tbody tr th {\n",
       "        vertical-align: top;\n",
       "    }\n",
       "\n",
       "    .dataframe thead th {\n",
       "        text-align: right;\n",
       "    }\n",
       "</style>\n",
       "<table border=\"1\" class=\"dataframe\">\n",
       "  <thead>\n",
       "    <tr style=\"text-align: right;\">\n",
       "      <th></th>\n",
       "      <th>price</th>\n",
       "      <th>percentChange</th>\n",
       "      <th>change</th>\n",
       "    </tr>\n",
       "  </thead>\n",
       "  <tbody>\n",
       "    <tr>\n",
       "      <th>price</th>\n",
       "      <td>1.000000</td>\n",
       "      <td>0.078079</td>\n",
       "      <td>0.116585</td>\n",
       "    </tr>\n",
       "    <tr>\n",
       "      <th>percentChange</th>\n",
       "      <td>0.078079</td>\n",
       "      <td>1.000000</td>\n",
       "      <td>0.824926</td>\n",
       "    </tr>\n",
       "    <tr>\n",
       "      <th>change</th>\n",
       "      <td>0.116585</td>\n",
       "      <td>0.824926</td>\n",
       "      <td>1.000000</td>\n",
       "    </tr>\n",
       "  </tbody>\n",
       "</table>\n",
       "</div>"
      ],
      "text/plain": [
       "                  price  percentChange    change\n",
       "price          1.000000       0.078079  0.116585\n",
       "percentChange  0.078079       1.000000  0.824926\n",
       "change         0.116585       0.824926  1.000000"
      ]
     },
     "execution_count": 20,
     "metadata": {},
     "output_type": "execute_result"
    }
   ],
   "source": [
    "df.corr()"
   ]
  },
  {
   "cell_type": "code",
   "execution_count": 21,
   "metadata": {},
   "outputs": [
    {
     "data": {
      "image/png": "[encoded data removed]",
      "text/plain": [
       "<Figure size 540x540 with 12 Axes>"
      ]
     },
     "metadata": {
      "needs_background": "light"
     },
     "output_type": "display_data"
    }
   ],
   "source": [
    "sns.pairplot(df);"
   ]
  },
  {
   "cell_type": "markdown",
   "metadata": {},
   "source": [
    "На таблицах, изображённых выше изображена корреляция рассматриваемых данных, а также приведены гистограммы распределения."
   ]
  }
 ],
 "metadata": {
  "anaconda-cloud": {},
  "kernelspec": {
   "display_name": "Python 3 (ipykernel)",
   "language": "python",
   "name": "python3"
  },
  "language_info": {
   "codemirror_mode": {
    "name": "ipython",
    "version": 3
   },
   "file_extension": ".py",
   "mimetype": "text/x-python",
   "name": "python",
   "nbconvert_exporter": "python",
   "pygments_lexer": "ipython3",
   "version": "3.9.7"
  }
 },
 "nbformat": 4,
 "nbformat_minor": 1
}
